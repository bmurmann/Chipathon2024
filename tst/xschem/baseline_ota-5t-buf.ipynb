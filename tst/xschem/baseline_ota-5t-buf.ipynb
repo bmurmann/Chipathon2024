{
 "cells": [
  {
   "cell_type": "code",
   "execution_count": 1,
   "metadata": {},
   "outputs": [],
   "source": [
    "import numpy as np\n",
    "import pandas as pd\n",
    "import scipy.constants as sc\n",
    "from pygmid import Lookup as lk"
   ]
  },
  {
   "cell_type": "markdown",
   "metadata": {},
   "source": [
    "#### Technology data"
   ]
  },
  {
   "cell_type": "code",
   "execution_count": 2,
   "metadata": {},
   "outputs": [],
   "source": [
    "n = lk('../../techsweep/simulation/nfet_01v8_lvt.mat')\n",
    "p = lk('../../techsweep/simulation/pfet_01v8.mat')"
   ]
  },
  {
   "cell_type": "markdown",
   "metadata": {},
   "source": [
    "#### Baseline sizing"
   ]
  },
  {
   "cell_type": "code",
   "execution_count": 3,
   "metadata": {},
   "outputs": [],
   "source": [
    "T = 300; ib = 10e-6; cl = 1e-12\n",
    "type = ['n', 'n', 'p']\n",
    "l = np.array([1.0, 0.5,  1.0])\n",
    "w = np.array([2.0, 20.0, 2.0])\n",
    "nf = np.array([2, 4, 2])"
   ]
  },
  {
   "cell_type": "markdown",
   "metadata": {},
   "source": [
    "#### Estimated operating point parameters"
   ]
  },
  {
   "cell_type": "code",
   "execution_count": 4,
   "metadata": {},
   "outputs": [
    {
     "data": {
      "text/html": [
       "<div>\n",
       "<style scoped>\n",
       "    .dataframe tbody tr th:only-of-type {\n",
       "        vertical-align: middle;\n",
       "    }\n",
       "\n",
       "    .dataframe tbody tr th {\n",
       "        vertical-align: top;\n",
       "    }\n",
       "\n",
       "    .dataframe thead th {\n",
       "        text-align: right;\n",
       "    }\n",
       "</style>\n",
       "<table border=\"1\" class=\"dataframe\">\n",
       "  <thead>\n",
       "    <tr style=\"text-align: right;\">\n",
       "      <th></th>\n",
       "      <th>M0</th>\n",
       "      <th>M1</th>\n",
       "      <th>M2</th>\n",
       "    </tr>\n",
       "  </thead>\n",
       "  <tbody>\n",
       "    <tr>\n",
       "      <th>gm_id (S/A)</th>\n",
       "      <td>9.42</td>\n",
       "      <td>22.98</td>\n",
       "      <td>7.18</td>\n",
       "    </tr>\n",
       "    <tr>\n",
       "      <th>ft (GHz)</th>\n",
       "      <td>1.27</td>\n",
       "      <td>0.36</td>\n",
       "      <td>0.52</td>\n",
       "    </tr>\n",
       "    <tr>\n",
       "      <th>gm_gds</th>\n",
       "      <td>34.56</td>\n",
       "      <td>57.54</td>\n",
       "      <td>253.37</td>\n",
       "    </tr>\n",
       "    <tr>\n",
       "      <th>gm (uS)</th>\n",
       "      <td>94.21</td>\n",
       "      <td>114.91</td>\n",
       "      <td>35.90</td>\n",
       "    </tr>\n",
       "    <tr>\n",
       "      <th>gds (uS)</th>\n",
       "      <td>2.73</td>\n",
       "      <td>2.00</td>\n",
       "      <td>0.14</td>\n",
       "    </tr>\n",
       "    <tr>\n",
       "      <th>cgg (fF)</th>\n",
       "      <td>11.83</td>\n",
       "      <td>51.24</td>\n",
       "      <td>10.90</td>\n",
       "    </tr>\n",
       "    <tr>\n",
       "      <th>cdd (fF)</th>\n",
       "      <td>11.83</td>\n",
       "      <td>51.24</td>\n",
       "      <td>10.90</td>\n",
       "    </tr>\n",
       "    <tr>\n",
       "      <th>cgd (fF)</th>\n",
       "      <td>0.81</td>\n",
       "      <td>5.00</td>\n",
       "      <td>0.11</td>\n",
       "    </tr>\n",
       "    <tr>\n",
       "      <th>gamma</th>\n",
       "      <td>1.86</td>\n",
       "      <td>1.30</td>\n",
       "      <td>1.15</td>\n",
       "    </tr>\n",
       "  </tbody>\n",
       "</table>\n",
       "</div>"
      ],
      "text/plain": [
       "                M0      M1      M2\n",
       "gm_id (S/A)   9.42   22.98    7.18\n",
       "ft (GHz)      1.27    0.36    0.52\n",
       "gm_gds       34.56   57.54  253.37\n",
       "gm (uS)      94.21  114.91   35.90\n",
       "gds (uS)      2.73    2.00    0.14\n",
       "cgg (fF)     11.83   51.24   10.90\n",
       "cdd (fF)     11.83   51.24   10.90\n",
       "cgd (fF)      0.81    5.00    0.11\n",
       "gamma         1.86    1.30    1.15"
      ]
     },
     "execution_count": 4,
     "metadata": {},
     "output_type": "execute_result"
    }
   ],
   "source": [
    "id = np.array([ib, ib/2, ib/2])\n",
    "gm_id=np.zeros(len(l))\n",
    "gm_cgg=np.zeros(len(l))\n",
    "gm_cdd=np.zeros(len(l))\n",
    "gm_cgd=np.zeros(len(l))\n",
    "gm_gds=np.zeros(len(l))\n",
    "sth_gm=np.zeros(len(l))\n",
    "\n",
    "for i in range(len(l)):\n",
    "    if type[i] == 'n':\n",
    "      gm_id[i] = n.lookup('GM_ID', ID_W=id[i]/w[i], L=l[i], VDS=0.3)\n",
    "      gm_cgg[i] = n.lookup('GM_CGG', ID_W=id[i]/w[i], L=l[i], VDS=0.3)\n",
    "      gm_cdd[i] = n.lookup('GM_CDD', ID_W=id[i]/w[i], L=l[i], VDS=0.3)\n",
    "      gm_cgd[i] = n.lookup('GM_CGD', ID_W=id[i]/w[i], L=l[i], VDS=0.3)\n",
    "      gm_gds[i] = n.lookup('GM_GDS', ID_W=id[i]/w[i], L=l[i], VDS=0.3)\n",
    "      sth_gm[i] = n.lookup('STH_GM', ID_W=id[i]/w[i], L=l[i], VDS=0.3)\n",
    "    else:\n",
    "      gm_id[i] = p.lookup('GM_ID', ID_W=id[i]/w[i], L=l[i]) \n",
    "      gm_cgg[i] = p.lookup('GM_CGG', ID_W=id[i]/w[i], L=l[i])\n",
    "      gm_cdd[i] = p.lookup('GM_CDD', ID_W=id[i]/w[i], L=l[i])\n",
    "      gm_cgd[i] = p.lookup('GM_CGD', ID_W=id[i]/w[i], L=l[i])\n",
    "      gm_gds[i] = p.lookup('GM_GDS', ID_W=id[i]/w[i], L=l[i])\n",
    "      sth_gm[i] = p.lookup('STH_GM', ID_W=id[i]/w[i], L=l[i])\n",
    "\n",
    "gm = id*gm_id\n",
    "gds = gm/gm_gds\n",
    "cgg = gm/gm_cgg\n",
    "cdd = gm/gm_cgg\n",
    "cgd = gm/gm_cgd\n",
    "gamma = sth_gm/(4*sc.Boltzmann*T)\n",
    "\n",
    "df = pd.DataFrame( [gm_id, gm_cgg/1e9/2/np.pi, gm_gds, gm/1e-6, gds/1e-6, cgg/1e-15, cdd/1e-15, cgd/1e-15, gamma], \\\n",
    "                   ['gm_id (S/A)', 'ft (GHz)', 'gm_gds', 'gm (uS)', 'gds (uS)', 'cgg (fF)', 'cdd (fF)', 'cgd (fF)', 'gamma'], columns=['M0', 'M1', 'M2']); df.round(2)\n"
   ]
  },
  {
   "cell_type": "markdown",
   "metadata": {},
   "source": [
    "#### Estimate performance specs"
   ]
  },
  {
   "cell_type": "code",
   "execution_count": 5,
   "metadata": {},
   "outputs": [
    {
     "data": {
      "text/html": [
       "<div>\n",
       "<style scoped>\n",
       "    .dataframe tbody tr th:only-of-type {\n",
       "        vertical-align: middle;\n",
       "    }\n",
       "\n",
       "    .dataframe tbody tr th {\n",
       "        vertical-align: top;\n",
       "    }\n",
       "\n",
       "    .dataframe thead th {\n",
       "        text-align: right;\n",
       "    }\n",
       "</style>\n",
       "<table border=\"1\" class=\"dataframe\">\n",
       "  <thead>\n",
       "    <tr style=\"text-align: right;\">\n",
       "      <th></th>\n",
       "      <th>Value</th>\n",
       "    </tr>\n",
       "  </thead>\n",
       "  <tbody>\n",
       "    <tr>\n",
       "      <th>A0</th>\n",
       "      <td>53.73</td>\n",
       "    </tr>\n",
       "    <tr>\n",
       "      <th>UGF (MHz)</th>\n",
       "      <td>17.22</td>\n",
       "    </tr>\n",
       "    <tr>\n",
       "      <th>PM (deg)</th>\n",
       "      <td>88.79</td>\n",
       "    </tr>\n",
       "    <tr>\n",
       "      <th>Noise (uVrms)</th>\n",
       "      <td>118.46</td>\n",
       "    </tr>\n",
       "  </tbody>\n",
       "</table>\n",
       "</div>"
      ],
      "text/plain": [
       "                Value\n",
       "A0              53.73\n",
       "UGF (MHz)       17.22\n",
       "PM (deg)        88.79\n",
       "Noise (uVrms)  118.46"
      ]
     },
     "execution_count": 5,
     "metadata": {},
     "output_type": "execute_result"
    }
   ],
   "source": [
    "# A0\n",
    "A0 = gm[1]/(gds[1]+gds[2])\n",
    "\n",
    "# UGF\n",
    "cltot = cl + cdd[1] + cdd[2]\n",
    "UGF = gm[1]/cltot/2/np.pi\n",
    "\n",
    "# PM\n",
    "fp2 = gm_cgg[2]/2/np.pi\n",
    "phip2 = -np.arctan(UGF/fp2)*180/np.pi\n",
    "fz2 = 2*fp2\n",
    "phiz2 = +np.arctan(UGF/fz2)*180/np.pi\n",
    "fz3 = gm[1]/cgd[1]/2/np.pi\n",
    "phiz3 = -np.arctan(UGF/fz3)*180/np.pi\n",
    "PM= 90 +phip2 +phiz2 +phiz3 \n",
    "\n",
    "# NOI\n",
    "NOI = ( gamma[1]*(1+2*gamma[2]/gamma[1]) * sc.Boltzmann*T/cltot)**0.5\n",
    "\n",
    "df = pd.DataFrame( [A0, UGF/1e6, PM, NOI/1e-6], \\\n",
    "                   ['A0', 'UGF (MHz)', 'PM (deg)', 'Noise (uVrms)'], columns=['Value']); df.round(2)"
   ]
  },
  {
   "cell_type": "code",
   "execution_count": 6,
   "metadata": {},
   "outputs": [
    {
     "data": {
      "text/html": [
       "<div>\n",
       "<style scoped>\n",
       "    .dataframe tbody tr th:only-of-type {\n",
       "        vertical-align: middle;\n",
       "    }\n",
       "\n",
       "    .dataframe tbody tr th {\n",
       "        vertical-align: top;\n",
       "    }\n",
       "\n",
       "    .dataframe thead th {\n",
       "        text-align: right;\n",
       "    }\n",
       "</style>\n",
       "<table border=\"1\" class=\"dataframe\">\n",
       "  <thead>\n",
       "    <tr style=\"text-align: right;\">\n",
       "      <th></th>\n",
       "      <th>Value</th>\n",
       "    </tr>\n",
       "  </thead>\n",
       "  <tbody>\n",
       "    <tr>\n",
       "      <th>fp2 (MHz)</th>\n",
       "      <td>524.04</td>\n",
       "    </tr>\n",
       "    <tr>\n",
       "      <th>fz2 (MHz)</th>\n",
       "      <td>1048.08</td>\n",
       "    </tr>\n",
       "    <tr>\n",
       "      <th>fz3 (MHz)</th>\n",
       "      <td>3654.91</td>\n",
       "    </tr>\n",
       "    <tr>\n",
       "      <th>phip2 (deg)</th>\n",
       "      <td>-1.88</td>\n",
       "    </tr>\n",
       "    <tr>\n",
       "      <th>phiz2 (deg)</th>\n",
       "      <td>0.94</td>\n",
       "    </tr>\n",
       "    <tr>\n",
       "      <th>phiz2 (deg)</th>\n",
       "      <td>-0.27</td>\n",
       "    </tr>\n",
       "  </tbody>\n",
       "</table>\n",
       "</div>"
      ],
      "text/plain": [
       "               Value\n",
       "fp2 (MHz)     524.04\n",
       "fz2 (MHz)    1048.08\n",
       "fz3 (MHz)    3654.91\n",
       "phip2 (deg)    -1.88\n",
       "phiz2 (deg)     0.94\n",
       "phiz2 (deg)    -0.27"
      ]
     },
     "execution_count": 6,
     "metadata": {},
     "output_type": "execute_result"
    }
   ],
   "source": [
    "df = pd.DataFrame( [fp2/1e6, fz2/1e6, fz3/1e6, phip2, phiz2, phiz3], \\\n",
    "                   ['fp2 (MHz)', 'fz2 (MHz)', 'fz3 (MHz)', 'phip2 (deg)', 'phiz2 (deg)', 'phiz2 (deg)'], columns=['Value']); df.round(2)"
   ]
  }
 ],
 "metadata": {
  "kernelspec": {
   "display_name": "Python 3",
   "language": "python",
   "name": "python3"
  },
  "language_info": {
   "codemirror_mode": {
    "name": "ipython",
    "version": 3
   },
   "file_extension": ".py",
   "mimetype": "text/x-python",
   "name": "python",
   "nbconvert_exporter": "python",
   "pygments_lexer": "ipython3",
   "version": "3.10.12"
  }
 },
 "nbformat": 4,
 "nbformat_minor": 2
}
