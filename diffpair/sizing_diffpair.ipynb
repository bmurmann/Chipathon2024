{
 "cells": [
  {
   "cell_type": "code",
   "execution_count": 41,
   "metadata": {},
   "outputs": [],
   "source": [
    "import numpy as np\n",
    "import pandas as pd\n",
    "from pygmid import Lookup as lk"
   ]
  },
  {
   "cell_type": "markdown",
   "metadata": {},
   "source": [
    "#### Technology data"
   ]
  },
  {
   "cell_type": "code",
   "execution_count": 42,
   "metadata": {},
   "outputs": [],
   "source": [
    "nfet_01v8_lvt = lk('../techsweep/simulation/nfet_01v8_lvt.mat')"
   ]
  },
  {
   "cell_type": "markdown",
   "metadata": {},
   "source": [
    "#### Specifications"
   ]
  },
  {
   "cell_type": "code",
   "execution_count": 43,
   "metadata": {},
   "outputs": [],
   "source": [
    "gm = 10e-3"
   ]
  },
  {
   "cell_type": "markdown",
   "metadata": {},
   "source": [
    "#### Design choices"
   ]
  },
  {
   "cell_type": "code",
   "execution_count": 44,
   "metadata": {},
   "outputs": [],
   "source": [
    "l = 0.15\n",
    "gm_id = np.array([6, 20])"
   ]
  },
  {
   "cell_type": "markdown",
   "metadata": {},
   "source": [
    "#### Sizing and benchmarking"
   ]
  },
  {
   "cell_type": "code",
   "execution_count": 45,
   "metadata": {},
   "outputs": [
    {
     "data": {
      "text/html": [
       "<div>\n",
       "<style scoped>\n",
       "    .dataframe tbody tr th:only-of-type {\n",
       "        vertical-align: middle;\n",
       "    }\n",
       "\n",
       "    .dataframe tbody tr th {\n",
       "        vertical-align: top;\n",
       "    }\n",
       "\n",
       "    .dataframe thead th {\n",
       "        text-align: right;\n",
       "    }\n",
       "</style>\n",
       "<table border=\"1\" class=\"dataframe\">\n",
       "  <thead>\n",
       "    <tr style=\"text-align: right;\">\n",
       "      <th></th>\n",
       "      <th>option1</th>\n",
       "      <th>option2</th>\n",
       "    </tr>\n",
       "  </thead>\n",
       "  <tbody>\n",
       "    <tr>\n",
       "      <th>gm_id</th>\n",
       "      <td>6.000000e+00</td>\n",
       "      <td>2.000000e+01</td>\n",
       "    </tr>\n",
       "    <tr>\n",
       "      <th>id</th>\n",
       "      <td>1.666667e-03</td>\n",
       "      <td>5.000000e-04</td>\n",
       "    </tr>\n",
       "    <tr>\n",
       "      <th>jd</th>\n",
       "      <td>7.100132e-05</td>\n",
       "      <td>3.077393e-06</td>\n",
       "    </tr>\n",
       "    <tr>\n",
       "      <th>w</th>\n",
       "      <td>2.347374e+01</td>\n",
       "      <td>1.624752e+02</td>\n",
       "    </tr>\n",
       "    <tr>\n",
       "      <th>cgg</th>\n",
       "      <td>2.844918e-14</td>\n",
       "      <td>1.790295e-13</td>\n",
       "    </tr>\n",
       "    <tr>\n",
       "      <th>ft</th>\n",
       "      <td>5.594359e+10</td>\n",
       "      <td>8.889872e+09</td>\n",
       "    </tr>\n",
       "    <tr>\n",
       "      <th>cgg_ngspice</th>\n",
       "      <td>1.721516e-14</td>\n",
       "      <td>1.012724e-13</td>\n",
       "    </tr>\n",
       "  </tbody>\n",
       "</table>\n",
       "</div>"
      ],
      "text/plain": [
       "                  option1       option2\n",
       "gm_id        6.000000e+00  2.000000e+01\n",
       "id           1.666667e-03  5.000000e-04\n",
       "jd           7.100132e-05  3.077393e-06\n",
       "w            2.347374e+01  1.624752e+02\n",
       "cgg          2.844918e-14  1.790295e-13\n",
       "ft           5.594359e+10  8.889872e+09\n",
       "cgg_ngspice  1.721516e-14  1.012724e-13"
      ]
     },
     "execution_count": 45,
     "metadata": {},
     "output_type": "execute_result"
    }
   ],
   "source": [
    "id = gm/gm_id\n",
    "jd = nfet_01v8_lvt.lookup('ID_W', GM_ID=gm_id, L=l)\n",
    "w = id/jd\n",
    "\n",
    "cgg_w = nfet_01v8_lvt.lookup('CGG_W', GM_ID=gm_id, L=l)\n",
    "cgg = w*cgg_w\n",
    "ft = gm/cgg/2/np.pi\n",
    "cfringe = w*0.239289e-15\n",
    "cgg_ngspice = cgg-2*cfringe\n",
    "\n",
    "df = pd.DataFrame([gm_id, id, jd, w, cgg, ft, cgg_ngspice], ['gm_id', 'id', 'jd', 'w', 'cgg', 'ft', 'cgg_ngspice'], columns=['option1', 'option2']); df"
   ]
  },
  {
   "cell_type": "markdown",
   "metadata": {},
   "source": [
    "#### Spice validation"
   ]
  },
  {
   "cell_type": "code",
   "execution_count": 46,
   "metadata": {},
   "outputs": [
    {
     "name": "stdout",
     "output_type": "stream",
     "text": [
      "Overwriting ./simulation/sizing_diffpair.spice\n"
     ]
    }
   ],
   "source": [
    "%%writefile ./simulation/sizing_diffpair.spice\n",
    "** differential pair sizing example\n",
    "\n",
    ".include /foss/pdks/sky130A/libs.tech/ngspice/corners/tt.spice\n",
    ".param mc_mm_switch=0\n",
    "*.param lx=0.15 wx=23.5 nfx=5 idx=1.6666m\n",
    ".param lx=0.15 wx=162.5 nfx=40 idx=0.5m\n",
    ".save @m.xm1a.msky130_fd_pr__nfet_01v8_lvt\n",
    "\n",
    "XM1a d g s 0 sky130_fd_pr__nfet_01v8_lvt L={lx} W={wx} nf={nfx} ad='int((nf+1)/2) * W/nf * 0.29' as='int((nf+2)/2) * W/nf * 0.29' pd='2*int((nf+1)/2) * (W/nf + 0.29)'\n",
    "+ ps='2*int((nf+2)/2) * (W/nf + 0.29)' nrd='0.29 / W' nrs='0.29 / W' sa=0 sb=0 sd=0 mult=1 m=1\n",
    "XM1b d g s 0 sky130_fd_pr__nfet_01v8_lvt L={lx} W={wx} nf={nfx} ad='int((nf+1)/2) * W/nf * 0.29' as='int((nf+2)/2) * W/nf * 0.29' pd='2*int((nf+1)/2) * (W/nf + 0.29)'\n",
    "+ ps='2*int((nf+2)/2) * (W/nf + 0.29)' nrd='0.29 / W' nrs='0.29 / W' sa=0 sb=0 sd=0 mult=1 m=1\n",
    "vg  g  0  1\n",
    "vd  d  0  1\n",
    "is  s  0  {2*idx}\n",
    "\n",
    ".control\n",
    "  op\n",
    "  *show\n",
    "  print @m.xm1a.msky130_fd_pr__nfet_01v8_lvt[gm]\n",
    "  print @m.xm1a.msky130_fd_pr__nfet_01v8_lvt[cgg]\n",
    ".endc\n",
    ".end"
   ]
  },
  {
   "cell_type": "code",
   "execution_count": 47,
   "metadata": {},
   "outputs": [
    {
     "name": "stdout",
     "output_type": "stream",
     "text": [
      "\n",
      "Note: Compatibility modes selected: hs a\n",
      "\n",
      "Warning: m=xx on .subckt line will override multiplier m hierarchy!\n",
      "\n",
      "\n",
      "Circuit: ** differential pair sizing example\n",
      "\n",
      "option SCALE: Scale is set to 1e-06 for instance and model parameters\n",
      "Doing analysis at TEMP = 27.000000 and TNOM = 27.000000\n",
      "\n",
      "Using SPARSE 1.3 as Direct Linear Solver\n",
      " Reference value :  0.00000e+00\n",
      "No. of Data Rows : 1\n",
      "@m.xm1a.msky130_fd_pr__nfet_01v8_lvt[gm] = 1.027211e-02\n",
      "@m.xm1a.msky130_fd_pr__nfet_01v8_lvt[cgg] = 9.989792e-14\n",
      "Note: Simulation executed from .control section \n"
     ]
    }
   ],
   "source": [
    "!/foss/tools/bin/ngspice -b ./simulation/sizing_diffpair.spice"
   ]
  }
 ],
 "metadata": {
  "kernelspec": {
   "display_name": "Python 3",
   "language": "python",
   "name": "python3"
  },
  "language_info": {
   "codemirror_mode": {
    "name": "ipython",
    "version": 3
   },
   "file_extension": ".py",
   "mimetype": "text/x-python",
   "name": "python",
   "nbconvert_exporter": "python",
   "pygments_lexer": "ipython3",
   "version": "3.10.12"
  }
 },
 "nbformat": 4,
 "nbformat_minor": 2
}
