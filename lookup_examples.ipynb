{
 "cells": [
  {
   "cell_type": "code",
   "execution_count": 43,
   "metadata": {},
   "outputs": [],
   "source": [
    "from pygmid import Lookup as lk\n",
    "import numpy as np"
   ]
  },
  {
   "cell_type": "code",
   "execution_count": 44,
   "metadata": {},
   "outputs": [],
   "source": [
    "nfet_01v8_lvt = lk('./simulation/nfet_01v8_lvt.mat')"
   ]
  },
  {
   "cell_type": "code",
   "execution_count": 45,
   "metadata": {},
   "outputs": [
    {
     "name": "stdout",
     "output_type": "stream",
     "text": [
      "0.002264\n"
     ]
    }
   ],
   "source": [
    "gm = nfet_01v8_lvt.lookup('GM', L=0.15, VGS=0.9, VDS=0.9, VSB=0)\n",
    "print(gm)"
   ]
  },
  {
   "cell_type": "code",
   "execution_count": 46,
   "metadata": {},
   "outputs": [
    {
     "name": "stdout",
     "output_type": "stream",
     "text": [
      "0.002264\n"
     ]
    }
   ],
   "source": [
    "# Query below uses minimum L, VDS=max(vgs)/2=0.9 and VSB=0 as defaults since they not specified\n",
    "gm = nfet_01v8_lvt.lookup('GM', VGS=0.9)\n",
    "print(gm)"
   ]
  },
  {
   "cell_type": "code",
   "execution_count": 47,
   "metadata": {},
   "outputs": [
    {
     "name": "stdout",
     "output_type": "stream",
     "text": [
      "162422660877.2672\n"
     ]
    }
   ],
   "source": [
    "# Similar to above, but now we are looking up a ratio against another ratio\n",
    "gm_cgg = nfet_01v8_lvt.lookup('GM_CGG', GM_ID=15)\n",
    "print(gm_cgg)"
   ]
  }
 ],
 "metadata": {
  "kernelspec": {
   "display_name": "Python 3",
   "language": "python",
   "name": "python3"
  },
  "language_info": {
   "codemirror_mode": {
    "name": "ipython",
    "version": 3
   },
   "file_extension": ".py",
   "mimetype": "text/x-python",
   "name": "python",
   "nbconvert_exporter": "python",
   "pygments_lexer": "ipython3",
   "version": "3.10.12"
  }
 },
 "nbformat": 4,
 "nbformat_minor": 2
}
