{
 "cells": [
  {
   "cell_type": "code",
   "execution_count": 18,
   "metadata": {},
   "outputs": [],
   "source": [
    "from pygmid import Lookup as lk\n",
    "import numpy as np\n",
    "import scipy.constants as sc"
   ]
  },
  {
   "cell_type": "code",
   "execution_count": 19,
   "metadata": {},
   "outputs": [],
   "source": [
    "nfet_01v8_lvt = lk('./simulation/nfet_01v8_lvt.mat')"
   ]
  },
  {
   "cell_type": "code",
   "execution_count": 20,
   "metadata": {},
   "outputs": [
    {
     "name": "stdout",
     "output_type": "stream",
     "text": [
      "0.002264\n"
     ]
    }
   ],
   "source": [
    "gm = nfet_01v8_lvt.lookup('GM', L=0.15, VGS=0.9, VDS=0.9, VSB=0)\n",
    "print(gm)"
   ]
  },
  {
   "cell_type": "code",
   "execution_count": 21,
   "metadata": {},
   "outputs": [
    {
     "name": "stdout",
     "output_type": "stream",
     "text": [
      "0.002264\n"
     ]
    }
   ],
   "source": [
    "# Query below uses minimum L, VDS=max(vgs)/2=0.9 and VSB=0 as defaults since they not specified\n",
    "gm = nfet_01v8_lvt.lookup('GM', VGS=0.9)\n",
    "print(gm)"
   ]
  },
  {
   "cell_type": "code",
   "execution_count": 22,
   "metadata": {},
   "outputs": [
    {
     "name": "stdout",
     "output_type": "stream",
     "text": [
      "162422660877.2672\n"
     ]
    }
   ],
   "source": [
    "# Similar to above, but now we are looking up a ratio against another ratio (usage mode 3)\n",
    "gm_cgg = nfet_01v8_lvt.lookup('GM_CGG', GM_ID=15)\n",
    "print(gm_cgg)"
   ]
  },
  {
   "cell_type": "code",
   "execution_count": 31,
   "metadata": {},
   "outputs": [
    {
     "name": "stdout",
     "output_type": "stream",
     "text": [
      "1.4496571946843444\n"
     ]
    }
   ],
   "source": [
    "# gamma factor for thermal noise\n",
    "gamma = nfet_01v8_lvt.lookup('STH', VGS=0.9)**2 /4/sc.Boltzmann/300/nfet_01v8_lvt.lookup('GM', VGS=0.9)\n",
    "print(gamma)"
   ]
  },
  {
   "cell_type": "code",
   "execution_count": 33,
   "metadata": {},
   "outputs": [
    {
     "name": "stdout",
     "output_type": "stream",
     "text": [
      "3.0675795053003536e-05\n"
     ]
    }
   ],
   "source": [
    "# gate-referred 1/f noise at 1Hz (in V/rt-Hz)\n",
    "sfl_gate = nfet_01v8_lvt.lookup('SFL_GM', VGS=0.9)\n",
    "print(sfl_gate)"
   ]
  },
  {
   "cell_type": "markdown",
   "metadata": {},
   "source": [
    "#### Usage mode overview\n",
    "\n",
    "(1) Simple lookup of parameters at some given (L, VGS, VDS, VSB)  \n",
    "(2) Lookup of arbitrary ratios of parameters, e.g. GM_ID, GM_CGG at given (L, VGS, VDS, VSB)  \n",
    "(3) Cross-lookup of one ratio against another, e.g. GM_CGG for some GM_ID  \n",
    "\n",
    "The input parameters (L, VGS, VDS, VSB) default to the following values when not specified:\n",
    " \n",
    "L = min(data.L); (minimum length used in simulation)  \n",
    "VGS = data.VGS; (VGS vector used during simulation)  \n",
    "VDS = max(data.VDS)/2; (typically VDD/2)  \n",
    "VSB = 0"
   ]
  }
 ],
 "metadata": {
  "kernelspec": {
   "display_name": "Python 3",
   "language": "python",
   "name": "python3"
  },
  "language_info": {
   "codemirror_mode": {
    "name": "ipython",
    "version": 3
   },
   "file_extension": ".py",
   "mimetype": "text/x-python",
   "name": "python",
   "nbconvert_exporter": "python",
   "pygments_lexer": "ipython3",
   "version": "3.10.12"
  }
 },
 "nbformat": 4,
 "nbformat_minor": 2
}
