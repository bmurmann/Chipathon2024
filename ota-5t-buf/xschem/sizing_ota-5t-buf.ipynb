{
 "cells": [
  {
   "cell_type": "code",
   "execution_count": 184,
   "metadata": {},
   "outputs": [],
   "source": [
    "import numpy as np\n",
    "import pandas as pd\n",
    "import scipy.io\n",
    "import scipy.constants as sc\n",
    "from pygmid import Lookup as lk"
   ]
  },
  {
   "cell_type": "markdown",
   "metadata": {},
   "source": [
    "#### Technology data"
   ]
  },
  {
   "cell_type": "code",
   "execution_count": 185,
   "metadata": {},
   "outputs": [],
   "source": [
    "n = lk('../../techsweep/simulation/nfet_01v8_lvt.mat')\n",
    "p = lk('../../techsweep/simulation/pfet_01v8.mat')\n",
    "n_mat = scipy.io.loadmat('../../techsweep/simulation/nfet_01v8_lvt.mat', squeeze_me=True)\n",
    "p_mat = scipy.io.loadmat('../../techsweep/simulation/pfet_01v8.mat', squeeze_me=True)"
   ]
  },
  {
   "cell_type": "markdown",
   "metadata": {},
   "source": [
    "#### Specifications"
   ]
  },
  {
   "cell_type": "code",
   "execution_count": 186,
   "metadata": {},
   "outputs": [],
   "source": [
    "T=300; A0=30; PM=80; NOI=50e-6"
   ]
  },
  {
   "cell_type": "markdown",
   "metadata": {},
   "source": [
    "#### Design choices"
   ]
  },
  {
   "cell_type": "code",
   "execution_count": 187,
   "metadata": {},
   "outputs": [],
   "source": [
    "# pick large gm/ID for input pairs, smaller gm/ID for mirror (to reduce noise)\n",
    "gm_id = np.zeros(3)\n",
    "gm_id[1] = 20\n",
    "gm2_gm1 = 0.5\n",
    "gm_id[2] = gm2_gm1*gm_id[1]\n",
    "gm_id[0] = gm_id[1]"
   ]
  },
  {
   "cell_type": "markdown",
   "metadata": {},
   "source": [
    "#### Sizing and benchmarking"
   ]
  },
  {
   "cell_type": "code",
   "execution_count": 188,
   "metadata": {},
   "outputs": [
    {
     "data": {
      "text/html": [
       "<div>\n",
       "<style scoped>\n",
       "    .dataframe tbody tr th:only-of-type {\n",
       "        vertical-align: middle;\n",
       "    }\n",
       "\n",
       "    .dataframe tbody tr th {\n",
       "        vertical-align: top;\n",
       "    }\n",
       "\n",
       "    .dataframe thead th {\n",
       "        text-align: right;\n",
       "    }\n",
       "</style>\n",
       "<table border=\"1\" class=\"dataframe\">\n",
       "  <thead>\n",
       "    <tr style=\"text-align: right;\">\n",
       "      <th></th>\n",
       "      <th>Value</th>\n",
       "    </tr>\n",
       "  </thead>\n",
       "  <tbody>\n",
       "    <tr>\n",
       "      <th>cl (pF)</th>\n",
       "      <td>7.02</td>\n",
       "    </tr>\n",
       "    <tr>\n",
       "      <th>UGF (MHz)</th>\n",
       "      <td>83.32</td>\n",
       "    </tr>\n",
       "    <tr>\n",
       "      <th>ib (uA)</th>\n",
       "      <td>367.36</td>\n",
       "    </tr>\n",
       "  </tbody>\n",
       "</table>\n",
       "</div>"
      ],
      "text/plain": [
       "            Value\n",
       "cl (pF)      7.02\n",
       "UGF (MHz)   83.32\n",
       "ib (uA)    367.36"
      ]
     },
     "execution_count": 188,
     "metadata": {},
     "output_type": "execute_result"
    }
   ],
   "source": [
    "# Find shortest channel length that satisfies gain requirement\n",
    "# pfet model is bad for intrinsic gain, so just pick same L as for nfet\n",
    "# add some margin to account for pfet gds (which is poorly modeled)\n",
    "# A0 = gm[1]/(gds[1]+gds[2])\n",
    "gm_gds1 = 2*A0\n",
    "l_vec1 = n_mat['nfet_01v8_lvt']['L'].flatten()[0]\n",
    "gm_gds_vec1 = n.lookup('GM_GDS', GM_ID=gm_id[1], L=l_vec1, VDS=0.3)\n",
    "l_index1 = next(x for x, val in enumerate(gm_gds_vec1) if val > gm_gds1)\n",
    "l = np.zeros(3)\n",
    "l[1]=l_vec1[l_index1]\n",
    "l[0]=l[1]\n",
    "l[2]=l[1]\n",
    "\n",
    "# calculate load capacitance for noise spec\n",
    "# neglect device caps, consider only explicit cl\n",
    "# overdesign a little to account for 1/f noise\n",
    "# NOI = ( gamma[1]*(1+2*gamma[2]/gamma[1]) * sc.Boltzmann*T/cl)**0.5\n",
    "gamma = np.zeros(3)\n",
    "gamma[1] = n.lookup('STH_GM', GM_ID=gm_id[1], L=l[1])/(4*sc.Boltzmann*T)\n",
    "gamma[2] = p.lookup('STH_GM', GM_ID=gm_id[2], L=l[2])/(4*sc.Boltzmann*T)\n",
    "cl = 1.2*gamma[1]*(1+2*gamma[2]/gamma[1]) * sc.Boltzmann*T/NOI**2\n",
    "\n",
    "# calculate mirror pole frequency and UGF that guarantees phase margin\n",
    "# this calculation has some margin, as it neglects the LHP zero that returns some of the phase\n",
    "# phi = np.arctan(UGF/fp2)*180/np.pi\n",
    "fp2 = 0.5*p.lookup('GM_CGG', GM_ID=gm_id[2], L=l[2])/2/np.pi\n",
    "phi = 90-PM\n",
    "fp2_UGF = 1/np.tan(phi/180*np.pi)\n",
    "UGF = fp2/fp2_UGF\n",
    "\n",
    "# calculate gm1 based on UGF target\n",
    "# neglect device caps, consider only explicit cl\n",
    "# UGF = gm[1]/cl/2/np.pi\n",
    "gm = np.zeros(3)\n",
    "gm[1] = UGF*cl*2*np.pi\n",
    "\n",
    "# calculate bias current and all widths\n",
    "ib = 2*gm[1]/gm_id[1]\n",
    "id = ib*np.array([1, 0.5, 0.5])\n",
    "w = np.zeros(3)\n",
    "w[0] = id[0]/n.lookup('ID_W', GM_ID=gm_id[0], L=l[0])\n",
    "w[1] = id[1]/n.lookup('ID_W', GM_ID=gm_id[1], L=l[1])\n",
    "w[2] = id[2]/p.lookup('ID_W', GM_ID=gm_id[2], L=l[2])\n",
    "wfing = 5\n",
    "nf = 1+np.floor_divide(w, wfing)\n",
    "\n",
    "df = pd.DataFrame( [cl/1e-12, UGF/1e6, ib/1e-6], \\\n",
    "                   ['cl (pF)', 'UGF (MHz)', 'ib (uA)'], columns=['Value']); df.round(2)"
   ]
  },
  {
   "cell_type": "code",
   "execution_count": 189,
   "metadata": {},
   "outputs": [
    {
     "data": {
      "text/html": [
       "<div>\n",
       "<style scoped>\n",
       "    .dataframe tbody tr th:only-of-type {\n",
       "        vertical-align: middle;\n",
       "    }\n",
       "\n",
       "    .dataframe tbody tr th {\n",
       "        vertical-align: top;\n",
       "    }\n",
       "\n",
       "    .dataframe thead th {\n",
       "        text-align: right;\n",
       "    }\n",
       "</style>\n",
       "<table border=\"1\" class=\"dataframe\">\n",
       "  <thead>\n",
       "    <tr style=\"text-align: right;\">\n",
       "      <th></th>\n",
       "      <th>M0</th>\n",
       "      <th>M1</th>\n",
       "      <th>M2</th>\n",
       "    </tr>\n",
       "  </thead>\n",
       "  <tbody>\n",
       "    <tr>\n",
       "      <th>w (um)</th>\n",
       "      <td>485.62</td>\n",
       "      <td>242.81</td>\n",
       "      <td>96.40</td>\n",
       "    </tr>\n",
       "    <tr>\n",
       "      <th>l (um)</th>\n",
       "      <td>0.60</td>\n",
       "      <td>0.60</td>\n",
       "      <td>0.60</td>\n",
       "    </tr>\n",
       "    <tr>\n",
       "      <th>nf</th>\n",
       "      <td>98.00</td>\n",
       "      <td>49.00</td>\n",
       "      <td>20.00</td>\n",
       "    </tr>\n",
       "    <tr>\n",
       "      <th>gamma</th>\n",
       "      <td>0.00</td>\n",
       "      <td>1.47</td>\n",
       "      <td>1.03</td>\n",
       "    </tr>\n",
       "  </tbody>\n",
       "</table>\n",
       "</div>"
      ],
      "text/plain": [
       "            M0      M1     M2\n",
       "w (um)  485.62  242.81  96.40\n",
       "l (um)    0.60    0.60   0.60\n",
       "nf       98.00   49.00  20.00\n",
       "gamma     0.00    1.47   1.03"
      ]
     },
     "execution_count": 189,
     "metadata": {},
     "output_type": "execute_result"
    }
   ],
   "source": [
    "df = pd.DataFrame( [w, l, nf, gamma], \\\n",
    "                   ['w (um)', 'l (um)', 'nf', 'gamma'], columns=['M0', 'M1', 'M2']); df.round(2)"
   ]
  },
  {
   "cell_type": "markdown",
   "metadata": {},
   "source": [
    "#### Write spice include file"
   ]
  },
  {
   "cell_type": "code",
   "execution_count": 190,
   "metadata": {},
   "outputs": [],
   "source": [
    "# override with baseline values if desired\n",
    "if False:\n",
    "  ib = 10e-6; cl = 1e-12\n",
    "  l = np.array([1.0, 0.5,  1.0])\n",
    "  w = np.array([2.0, 20.0, 2.0])\n",
    "  nf = np.array([2, 4, 2])\n",
    "\n",
    "with open('sizing_ota-5t-buf.spice', 'w') as file:\n",
    "    file.write(\".param ib = \" + \"{:.2e}\".format(ib) + '\\n')\n",
    "    file.write(\".param cl = \" + \"{:.2e}\".format(cl) + '\\n')\n",
    "    for i in range(len(l)):\n",
    "      file.write(\".param w%d = \" % i + \"{:.2f}\".format(w[i]) + '\\n')\n",
    "      file.write(\".param l%d = \" % i + \"{:.2f}\".format(l[i]) + '\\n')\n",
    "      file.write(\".param nf%d = \" % i + \"{:.2f}\".format(nf[i]) + '\\n')"
   ]
  }
 ],
 "metadata": {
  "kernelspec": {
   "display_name": "Python 3",
   "language": "python",
   "name": "python3"
  },
  "language_info": {
   "codemirror_mode": {
    "name": "ipython",
    "version": 3
   },
   "file_extension": ".py",
   "mimetype": "text/x-python",
   "name": "python",
   "nbconvert_exporter": "python",
   "pygments_lexer": "ipython3",
   "version": "3.10.12"
  }
 },
 "nbformat": 4,
 "nbformat_minor": 2
}
