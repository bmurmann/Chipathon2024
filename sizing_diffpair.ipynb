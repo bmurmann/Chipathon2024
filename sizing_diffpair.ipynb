{
 "cells": [
  {
   "cell_type": "code",
   "execution_count": 10,
   "metadata": {},
   "outputs": [],
   "source": [
    "import numpy as np\n",
    "import pandas as pd\n",
    "from pygmid import Lookup as lk"
   ]
  },
  {
   "cell_type": "markdown",
   "metadata": {},
   "source": [
    "#### Technology data"
   ]
  },
  {
   "cell_type": "code",
   "execution_count": 11,
   "metadata": {},
   "outputs": [],
   "source": [
    "nfet_01v8_lvt = lk('./simulation/nfet_01v8_lvt.mat')"
   ]
  },
  {
   "cell_type": "markdown",
   "metadata": {},
   "source": [
    "#### Specifications"
   ]
  },
  {
   "cell_type": "code",
   "execution_count": 12,
   "metadata": {},
   "outputs": [],
   "source": [
    "gm = 10e-3"
   ]
  },
  {
   "cell_type": "markdown",
   "metadata": {},
   "source": [
    "#### Design choices"
   ]
  },
  {
   "cell_type": "code",
   "execution_count": 13,
   "metadata": {},
   "outputs": [],
   "source": [
    "l = 0.15\n",
    "gm_id = np.array([6, 20])"
   ]
  },
  {
   "cell_type": "markdown",
   "metadata": {},
   "source": [
    "#### Sizing and benchmarking"
   ]
  },
  {
   "cell_type": "code",
   "execution_count": 14,
   "metadata": {},
   "outputs": [
    {
     "data": {
      "text/html": [
       "<div>\n",
       "<style scoped>\n",
       "    .dataframe tbody tr th:only-of-type {\n",
       "        vertical-align: middle;\n",
       "    }\n",
       "\n",
       "    .dataframe tbody tr th {\n",
       "        vertical-align: top;\n",
       "    }\n",
       "\n",
       "    .dataframe thead th {\n",
       "        text-align: right;\n",
       "    }\n",
       "</style>\n",
       "<table border=\"1\" class=\"dataframe\">\n",
       "  <thead>\n",
       "    <tr style=\"text-align: right;\">\n",
       "      <th></th>\n",
       "      <th>option1</th>\n",
       "      <th>option2</th>\n",
       "    </tr>\n",
       "  </thead>\n",
       "  <tbody>\n",
       "    <tr>\n",
       "      <th>gm_id</th>\n",
       "      <td>6.000000e+00</td>\n",
       "      <td>2.000000e+01</td>\n",
       "    </tr>\n",
       "    <tr>\n",
       "      <th>id</th>\n",
       "      <td>1.666667e-03</td>\n",
       "      <td>5.000000e-04</td>\n",
       "    </tr>\n",
       "    <tr>\n",
       "      <th>jd</th>\n",
       "      <td>7.100132e-05</td>\n",
       "      <td>3.077393e-06</td>\n",
       "    </tr>\n",
       "    <tr>\n",
       "      <th>w</th>\n",
       "      <td>2.347374e+01</td>\n",
       "      <td>1.624752e+02</td>\n",
       "    </tr>\n",
       "    <tr>\n",
       "      <th>cgg</th>\n",
       "      <td>2.844918e-14</td>\n",
       "      <td>1.790295e-13</td>\n",
       "    </tr>\n",
       "    <tr>\n",
       "      <th>ft</th>\n",
       "      <td>5.594359e+10</td>\n",
       "      <td>8.889872e+09</td>\n",
       "    </tr>\n",
       "    <tr>\n",
       "      <th>cgg_ngspice</th>\n",
       "      <td>1.721516e-14</td>\n",
       "      <td>1.012724e-13</td>\n",
       "    </tr>\n",
       "  </tbody>\n",
       "</table>\n",
       "</div>"
      ],
      "text/plain": [
       "                  option1       option2\n",
       "gm_id        6.000000e+00  2.000000e+01\n",
       "id           1.666667e-03  5.000000e-04\n",
       "jd           7.100132e-05  3.077393e-06\n",
       "w            2.347374e+01  1.624752e+02\n",
       "cgg          2.844918e-14  1.790295e-13\n",
       "ft           5.594359e+10  8.889872e+09\n",
       "cgg_ngspice  1.721516e-14  1.012724e-13"
      ]
     },
     "execution_count": 14,
     "metadata": {},
     "output_type": "execute_result"
    }
   ],
   "source": [
    "id = gm/gm_id\n",
    "jd = nfet_01v8_lvt.lookup('ID_W', GM_ID=gm_id, L=l)\n",
    "w = id/jd\n",
    "\n",
    "cgg_w = nfet_01v8_lvt.lookup('CGG_W', GM_ID=gm_id, L=l)\n",
    "cgg = w*cgg_w\n",
    "ft = gm/cgg/2/np.pi\n",
    "cfringe = w*0.239289e-15\n",
    "cgg_ngspice = cgg-2*cfringe\n",
    "\n",
    "df = pd.DataFrame([gm_id, id, jd, w, cgg, ft, cgg_ngspice], ['gm_id', 'id', 'jd', 'w', 'cgg', 'ft', 'cgg_ngspice'], columns=['option1', 'option2']); df"
   ]
  },
  {
   "cell_type": "markdown",
   "metadata": {},
   "source": [
    "#### Spice validation"
   ]
  },
  {
   "cell_type": "code",
   "execution_count": 17,
   "metadata": {},
   "outputs": [
    {
     "name": "stdout",
     "output_type": "stream",
     "text": [
      "Overwriting ./simulation/sizing_diffpair.spice\n"
     ]
    }
   ],
   "source": [
    "%%writefile ./simulation/sizing_diffpair.spice\n",
    "** differential pair sizing example\n",
    "\n",
    ".include /foss/pdks/sky130A/libs.tech/ngspice/corners/tt.spice\n",
    ".param mc_mm_switch=0\n",
    "*.param lx=0.15 wx=23.5 nfx=5 idx=1.6666m\n",
    ".param lx=0.15 wx=162.5 nfx=40 idx=0.5m\n",
    ".save @m.xm1a.msky130_fd_pr__nfet_01v8_lvt\n",
    "\n",
    "XM1a d g s 0 sky130_fd_pr__nfet_01v8_lvt L={lx} W={wx} nf={nfx} ad='int((nf+1)/2) * W/nf * 0.29' as='int((nf+2)/2) * W/nf * 0.29' pd='2*int((nf+1)/2) * (W/nf + 0.29)'\n",
    "+ ps='2*int((nf+2)/2) * (W/nf + 0.29)' nrd='0.29 / W' nrs='0.29 / W' sa=0 sb=0 sd=0 mult=1 m=1\n",
    "XM1b d g s 0 sky130_fd_pr__nfet_01v8_lvt L={lx} W={wx} nf={nfx} ad='int((nf+1)/2) * W/nf * 0.29' as='int((nf+2)/2) * W/nf * 0.29' pd='2*int((nf+1)/2) * (W/nf + 0.29)'\n",
    "+ ps='2*int((nf+2)/2) * (W/nf + 0.29)' nrd='0.29 / W' nrs='0.29 / W' sa=0 sb=0 sd=0 mult=1 m=1\n",
    "vg  g  0  1\n",
    "vd  d  0  1\n",
    "is  s  0  {2*idx}\n",
    "\n",
    ".control\n",
    "  op\n",
    "  show\n",
    "  print @m.xm1a.msky130_fd_pr__nfet_01v8_lvt[gm]\n",
    "  print @m.xm1a.msky130_fd_pr__nfet_01v8_lvt[cgg]\n",
    ".endc\n",
    ".end"
   ]
  },
  {
   "cell_type": "code",
   "execution_count": 18,
   "metadata": {},
   "outputs": [
    {
     "name": "stdout",
     "output_type": "stream",
     "text": [
      "\n",
      "Note: Compatibility modes selected: hs a\n",
      "\n",
      "Warning: m=xx on .subckt line will override multiplier m hierarchy!\n",
      "\n",
      "\n",
      "Circuit: ** differential pair sizing example\n",
      "\n",
      "option SCALE: Scale is set to 1e-06 for instance and model parameters\n",
      "Doing analysis at TEMP = 27.000000 and TNOM = 27.000000\n",
      "\n",
      "Using SPARSE 1.3 as Direct Linear Solver\n",
      " Reference value :  0.00000e+00\n",
      "No. of Data Rows : 1\n",
      " BSIM4v5: Berkeley Short Channel IGFET Model-4\n",
      "     device m.xm1b.msky130_fd_pr_ m.xm1a.msky130_fd_pr_\n",
      "      model xm1b:sky130_fd_pr__nf xm1a:sky130_fd_pr__nf\n",
      "          l               1.5e-07               1.5e-07\n",
      "          w             0.0001625             0.0001625\n",
      "          m                     1                     1\n",
      "         nf                    40                    40\n",
      "         sa                     0                     0\n",
      "         sb                     0                     0\n",
      "         sd                     0                     0\n",
      "        sca                     0                     0\n",
      "        scb                     0                     0\n",
      "        scc                     0                     0\n",
      "         sc                     0                     0\n",
      "        min                     0                     0\n",
      "         ad           2.35625e-11           2.35625e-11\n",
      "         as           2.47406e-11           2.47406e-11\n",
      "         pd             0.0001741             0.0001741\n",
      "         ps           0.000182805           0.000182805\n",
      "        nrd            0.00178462            0.00178462\n",
      "        nrs            0.00178462            0.00178462\n",
      "        off                     0                     0\n",
      "       rbdb                    50                    50\n",
      "       rbsb                    50                    50\n",
      "       rbpb                    50                    50\n",
      "       rbps                    50                    50\n",
      "       rbpd                    50                    50\n",
      "     delvto                     0                     0\n",
      "      mulu0                     1                     1\n",
      "        xgw                     0                     0\n",
      "      ngcon                     1                     1\n",
      "   trnqsmod                     0                     0\n",
      "   acnqsmod                     0                     0\n",
      "   rbodymod                     1                     1\n",
      "   rgatemod                     0                     0\n",
      "     geomod                     0                     0\n",
      "    rgeomod                     0                     0\n",
      "       gmbs           0.000930027           0.000930027\n",
      "         gm             0.0102721             0.0102721\n",
      "        gds           0.000678583           0.000678583\n",
      "      vdsat             0.0755807             0.0755807\n",
      "        vth              0.620949              0.620949\n",
      "         id           0.000500001           0.000500001\n",
      "        ibd          -1.05046e-12          -1.05046e-12\n",
      "        ibs          -4.11869e-13          -4.11869e-13\n",
      "        gbd                 1e-12                 1e-12\n",
      "        gbs           1.00004e-12           1.00004e-12\n",
      "       isub           2.08745e-15           2.08745e-15\n",
      "      igidl                     0                     0\n",
      "      igisl                     0                     0\n",
      "        igs                     0                     0\n",
      "        igd                     0                     0\n",
      "        igb                     0                     0\n",
      "       igcs                     0                     0\n",
      "       igcd                     0                     0\n",
      "        vbs             -0.355555             -0.355555\n",
      "        vgs              0.644445              0.644445\n",
      "        vds              0.644444              0.644444\n",
      "        cgg           9.98979e-14           9.98979e-14\n",
      "        cgs          -7.72196e-14          -7.72196e-14\n",
      "        cgd           3.80237e-15           3.80237e-15\n",
      "        cbg          -2.42361e-14          -2.42361e-14\n",
      "        cbd           5.66287e-16           5.66287e-16\n",
      "        cbs          -1.12908e-14          -1.12908e-14\n",
      "        cdg          -3.03167e-14          -3.03167e-14\n",
      "        cdd          -1.71404e-15          -1.71404e-15\n",
      "        cds           3.54305e-14           3.54305e-14\n",
      "        csg          -4.53452e-14          -4.53452e-14\n",
      "        csd          -2.65461e-15          -2.65461e-15\n",
      "        css             5.308e-14             5.308e-14\n",
      "        cgb          -2.64806e-14          -2.64806e-14\n",
      "        cdb          -3.39978e-15          -3.39978e-15\n",
      "        csb           -5.0802e-15           -5.0802e-15\n",
      "        cbb           3.49606e-14           3.49606e-14\n",
      "      capbd           3.53581e-14           3.53581e-14\n",
      "      capbs           4.75085e-14           4.75085e-14\n",
      "         qg           1.10925e-13           1.10925e-13\n",
      "         qb          -8.99095e-14          -8.99095e-14\n",
      "         qd          -8.41671e-15          -8.41671e-15\n",
      "         qs           -1.2599e-14           -1.2599e-14\n",
      "       qinv                     0                     0\n",
      "       qdef                     0                     0\n",
      "       gcrg                     0                     0\n",
      "       gtau                     0                     0\n",
      "\n",
      " Isource: Independent current source\n",
      "     device                    is\n",
      "         dc                 0.001\n",
      "          m                     1\n",
      "      acmag                     0\n",
      "      pulse         -\n",
      "        sin         -\n",
      "        exp         -\n",
      "        pwl         -\n",
      "       sffm         -\n",
      "         am         -\n",
      "    trnoise         -\n",
      "   trrandom         -\n",
      "          v             -0.355554\n",
      "          p           0.000355554\n",
      "    current                 0.001\n",
      "\n",
      " Vsource: Independent voltage source\n",
      "     device                    vd                    vg\n",
      "         dc                     1                     1\n",
      "      acmag                     0                     0\n",
      "      pulse         -         -\n",
      "        sin         -         -\n",
      "        exp         -         -\n",
      "        pwl         -         -\n",
      "       sffm         -         -\n",
      "         am         -         -\n",
      "    trnoise         -         -\n",
      "   trrandom         -         -\n",
      "    portnum                     0                     0\n",
      "         z0                     0                     0\n",
      "        pwr                     0                     0\n",
      "       freq                     0                     0\n",
      "      phase                     0                     0\n",
      "          i                -0.001                     0\n",
      "          p                -0.001                     0\n",
      "\n",
      "@m.xm1a.msky130_fd_pr__nfet_01v8_lvt[gm] = 1.027211e-02\n",
      "@m.xm1a.msky130_fd_pr__nfet_01v8_lvt[cgg] = 9.989792e-14\n",
      "Note: Simulation executed from .control section \n"
     ]
    }
   ],
   "source": [
    "!/foss/tools/bin/ngspice -b ./simulation/sizing_diffpair.spice"
   ]
  }
 ],
 "metadata": {
  "kernelspec": {
   "display_name": "Python 3",
   "language": "python",
   "name": "python3"
  },
  "language_info": {
   "codemirror_mode": {
    "name": "ipython",
    "version": 3
   },
   "file_extension": ".py",
   "mimetype": "text/x-python",
   "name": "python",
   "nbconvert_exporter": "python",
   "pygments_lexer": "ipython3",
   "version": "3.10.12"
  }
 },
 "nbformat": 4,
 "nbformat_minor": 2
}
