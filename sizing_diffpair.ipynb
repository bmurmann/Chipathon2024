{
 "cells": [
  {
   "cell_type": "code",
   "execution_count": 42,
   "metadata": {},
   "outputs": [],
   "source": [
    "import numpy as np\n",
    "from pygmid import Lookup as lk"
   ]
  },
  {
   "cell_type": "markdown",
   "metadata": {},
   "source": [
    "#### Technology data"
   ]
  },
  {
   "cell_type": "code",
   "execution_count": 43,
   "metadata": {},
   "outputs": [],
   "source": [
    "nfet_01v8_lvt = lk('./simulation/nfet_01v8_lvt.mat')"
   ]
  },
  {
   "cell_type": "markdown",
   "metadata": {},
   "source": [
    "#### Specifications"
   ]
  },
  {
   "cell_type": "code",
   "execution_count": 44,
   "metadata": {},
   "outputs": [],
   "source": [
    "gm = 10e-3"
   ]
  },
  {
   "cell_type": "markdown",
   "metadata": {},
   "source": [
    "#### Design choices"
   ]
  },
  {
   "cell_type": "code",
   "execution_count": 45,
   "metadata": {},
   "outputs": [],
   "source": [
    "L = 0.15\n",
    "gm_id = np.array([8, 16])"
   ]
  },
  {
   "cell_type": "markdown",
   "metadata": {},
   "source": [
    "#### Sizing and benchmarking"
   ]
  },
  {
   "cell_type": "code",
   "execution_count": 50,
   "metadata": {},
   "outputs": [
    {
     "name": "stdout",
     "output_type": "stream",
     "text": [
      "[0.00125  0.000625] [4.70701274e-05 1.00061694e-05] [26.55612101 62.46146474]\n",
      "[1.19577332e-15 1.14044548e-15] [3.17551011e-14 7.12338953e-14] [5.01194887e+10 2.23425860e+10]\n"
     ]
    }
   ],
   "source": [
    "ID = gm/gm_id\n",
    "JD = nfet_01v8_lvt.lookup('ID_W', GM_ID=gm_id, L=L)\n",
    "W = ID/JD\n",
    "\n",
    "CGG_W = nfet_01v8_lvt.lookup('CGG_W', GM_ID=gm_id, L=L)\n",
    "CGG = W*CGG_W\n",
    "FT = gm/CGG/2/np.pi\n",
    "\n",
    "print(ID, JD, W)\n",
    "print(CGG_W, CGG, FT)"
   ]
  },
  {
   "cell_type": "code",
   "execution_count": 53,
   "metadata": {},
   "outputs": [
    {
     "name": "stdout",
     "output_type": "stream",
     "text": [
      "43555748905.133675\n"
     ]
    }
   ],
   "source": [
    "ft = nfet_01v8_lvt.lookup('GM_CGG', GM_ID = 10, L=L)/6.28\n",
    "print(ft)"
   ]
  }
 ],
 "metadata": {
  "kernelspec": {
   "display_name": "Python 3",
   "language": "python",
   "name": "python3"
  },
  "language_info": {
   "codemirror_mode": {
    "name": "ipython",
    "version": 3
   },
   "file_extension": ".py",
   "mimetype": "text/x-python",
   "name": "python",
   "nbconvert_exporter": "python",
   "pygments_lexer": "ipython3",
   "version": "3.10.12"
  }
 },
 "nbformat": 4,
 "nbformat_minor": 2
}
