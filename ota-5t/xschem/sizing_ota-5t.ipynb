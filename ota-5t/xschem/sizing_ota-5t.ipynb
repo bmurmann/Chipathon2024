{
 "cells": [
  {
   "cell_type": "code",
   "execution_count": 90,
   "metadata": {},
   "outputs": [],
   "source": [
    "import numpy as np\n",
    "import pandas as pd\n",
    "import scipy.constants as sc\n",
    "from pygmid import Lookup as lk"
   ]
  },
  {
   "cell_type": "markdown",
   "metadata": {},
   "source": [
    "#### Technology data"
   ]
  },
  {
   "cell_type": "code",
   "execution_count": 91,
   "metadata": {},
   "outputs": [],
   "source": [
    "n = lk('../../techsweep/simulation/nfet_01v8_lvt.mat')\n",
    "p = lk('../../techsweep/simulation/pfet_01v8.mat')"
   ]
  },
  {
   "cell_type": "markdown",
   "metadata": {},
   "source": [
    "#### Specifications"
   ]
  },
  {
   "cell_type": "code",
   "execution_count": 92,
   "metadata": {},
   "outputs": [],
   "source": [
    "T=300; A0 =50; PM=87; NOI=110e-6"
   ]
  },
  {
   "cell_type": "markdown",
   "metadata": {},
   "source": [
    "#### Design choices"
   ]
  },
  {
   "cell_type": "code",
   "execution_count": 93,
   "metadata": {},
   "outputs": [],
   "source": [
    "# n input pair, p mirror\n",
    "type = ['n', 'n', 'p']\n",
    "\n",
    "# pick channel lengths for gain requirement\n",
    "l = np.array([1.0, 0.5,  1.0])\n",
    "\n",
    "# pick large gm/ID for input pairs, smaller gm/ID for mirror (to reduce noise)\n",
    "gm_id = np.zeros(len(type))\n",
    "gm_id[1] = 20\n",
    "gm2_gm1 = 0.5\n",
    "gm_id[2] = gm2_gm1*gm_id[1]\n",
    "gm_id[0] = gm_id[1]"
   ]
  },
  {
   "cell_type": "markdown",
   "metadata": {},
   "source": [
    "#### Sizing and benchmarking"
   ]
  },
  {
   "cell_type": "code",
   "execution_count": 94,
   "metadata": {},
   "outputs": [
    {
     "data": {
      "text/html": [
       "<div>\n",
       "<style scoped>\n",
       "    .dataframe tbody tr th:only-of-type {\n",
       "        vertical-align: middle;\n",
       "    }\n",
       "\n",
       "    .dataframe tbody tr th {\n",
       "        vertical-align: top;\n",
       "    }\n",
       "\n",
       "    .dataframe thead th {\n",
       "        text-align: right;\n",
       "    }\n",
       "</style>\n",
       "<table border=\"1\" class=\"dataframe\">\n",
       "  <thead>\n",
       "    <tr style=\"text-align: right;\">\n",
       "      <th></th>\n",
       "      <th>Value</th>\n",
       "    </tr>\n",
       "  </thead>\n",
       "  <tbody>\n",
       "    <tr>\n",
       "      <th>cl (pF)</th>\n",
       "      <td>1.78</td>\n",
       "    </tr>\n",
       "    <tr>\n",
       "      <th>UGF (MHz)</th>\n",
       "      <td>9.43</td>\n",
       "    </tr>\n",
       "    <tr>\n",
       "      <th>ib (uA)</th>\n",
       "      <td>10.55</td>\n",
       "    </tr>\n",
       "  </tbody>\n",
       "</table>\n",
       "</div>"
      ],
      "text/plain": [
       "           Value\n",
       "cl (pF)     1.78\n",
       "UGF (MHz)   9.43\n",
       "ib (uA)    10.55"
      ]
     },
     "execution_count": 94,
     "metadata": {},
     "output_type": "execute_result"
    }
   ],
   "source": [
    "# calculate load capacitance for noise spec\n",
    "# NOI = ( gamma[1]*(1+2*gamma[2]/gamma[1]) * sc.Boltzmann*T/cltot)**0.5\n",
    "gamma = np.zeros(len(type))\n",
    "gamma[1] = n.lookup('STH_GM', GM_ID=gm_id[1], L=l[1])/(4*sc.Boltzmann*T)\n",
    "gamma[2] = n.lookup('STH_GM', GM_ID=gm_id[2], L=l[2])/(4*sc.Boltzmann*T)\n",
    "cl = gamma[1]*(1+2*gamma[2]/gamma[1]) * sc.Boltzmann*T/NOI**2\n",
    "\n",
    "# calculate mirror pole frequency and UGF that guarantees phase margin (with some margin)\n",
    "# phi = np.arctan(UGF/fp2)*180/np.pi\n",
    "fp2 = 0.5*p.lookup('GM_CGG', GM_ID=gm_id[2], L=l[2])/2/np.pi\n",
    "phi = 90-PM\n",
    "fp2_UGF = 1/np.tan(phi/180*np.pi)\n",
    "UGF = fp2/fp2_UGF\n",
    "\n",
    "# calculate gm1 based on UGF target\n",
    "# UGF = gm[1]/cltot/2/np.pi\n",
    "gm = np.zeros(len(type))\n",
    "gm[1] = UGF*cl*2*np.pi\n",
    "\n",
    "# calculate current and all widths\n",
    "ib = 2*gm[1]/gm_id[1]\n",
    "id = ib*np.array([1, 0.5, 0.5])\n",
    "w = np.zeros(len(type))\n",
    "w[0] = id[0]/n.lookup('ID_W', GM_ID=gm_id[0], L=l[0])\n",
    "w[1] = id[1]/n.lookup('ID_W', GM_ID=gm_id[1], L=l[1])\n",
    "w[2] = id[2]/n.lookup('ID_W', GM_ID=gm_id[2], L=l[2])\n",
    "wfing = 5\n",
    "nf = 1+np.floor_divide(w, wfing)\n",
    "\n",
    "df = pd.DataFrame( [cl/1e-12, UGF/1e6, ib/1e-6], \\\n",
    "                   ['cl (pF)', 'UGF (MHz)', 'ib (uA)'], columns=['Value']); df.round(2)"
   ]
  },
  {
   "cell_type": "code",
   "execution_count": 95,
   "metadata": {},
   "outputs": [
    {
     "data": {
      "text/html": [
       "<div>\n",
       "<style scoped>\n",
       "    .dataframe tbody tr th:only-of-type {\n",
       "        vertical-align: middle;\n",
       "    }\n",
       "\n",
       "    .dataframe tbody tr th {\n",
       "        vertical-align: top;\n",
       "    }\n",
       "\n",
       "    .dataframe thead th {\n",
       "        text-align: right;\n",
       "    }\n",
       "</style>\n",
       "<table border=\"1\" class=\"dataframe\">\n",
       "  <thead>\n",
       "    <tr style=\"text-align: right;\">\n",
       "      <th></th>\n",
       "      <th>M0</th>\n",
       "      <th>M1</th>\n",
       "      <th>M2</th>\n",
       "    </tr>\n",
       "  </thead>\n",
       "  <tbody>\n",
       "    <tr>\n",
       "      <th>w (um)</th>\n",
       "      <td>23.23</td>\n",
       "      <td>5.83</td>\n",
       "      <td>1.13</td>\n",
       "    </tr>\n",
       "    <tr>\n",
       "      <th>l (um)</th>\n",
       "      <td>1.00</td>\n",
       "      <td>0.50</td>\n",
       "      <td>1.00</td>\n",
       "    </tr>\n",
       "    <tr>\n",
       "      <th>nf</th>\n",
       "      <td>5.00</td>\n",
       "      <td>2.00</td>\n",
       "      <td>1.00</td>\n",
       "    </tr>\n",
       "  </tbody>\n",
       "</table>\n",
       "</div>"
      ],
      "text/plain": [
       "           M0    M1    M2\n",
       "w (um)  23.23  5.83  1.13\n",
       "l (um)   1.00  0.50  1.00\n",
       "nf       5.00  2.00  1.00"
      ]
     },
     "execution_count": 95,
     "metadata": {},
     "output_type": "execute_result"
    }
   ],
   "source": [
    "df = pd.DataFrame( [w, l, nf], \\\n",
    "                   ['w (um)', 'l (um)', 'nf'], columns=['M0', 'M1', 'M2']); df.round(2)"
   ]
  },
  {
   "cell_type": "markdown",
   "metadata": {},
   "source": [
    "#### Write spice include file"
   ]
  },
  {
   "cell_type": "code",
   "execution_count": 99,
   "metadata": {},
   "outputs": [],
   "source": [
    "# override with baseline values if desired\n",
    "if False:\n",
    "  ib = 10e-6; cl = 1e-12\n",
    "  l = np.array([1.0, 0.5,  1.0])\n",
    "  w = np.array([2.0, 20.0, 2.0])\n",
    "  nf = np.array([2, 4, 2])\n",
    "\n",
    "with open('sizing_ota-5t.spice', 'w') as file:\n",
    "    file.write(\".param ib = \" + \"{:.2e}\".format(ib) + '\\n')\n",
    "    file.write(\".param cl = \" + \"{:.2e}\".format(cl) + '\\n')\n",
    "    for i in range(len(l)):\n",
    "      file.write(\".param w%d = \" % i + \"{:.2f}\".format(w[i]) + '\\n')\n",
    "      file.write(\".param l%d = \" % i + \"{:.2f}\".format(l[i]) + '\\n')\n",
    "      file.write(\".param nf%d = \" % i + \"{:.2f}\".format(nf[i]) + '\\n')"
   ]
  }
 ],
 "metadata": {
  "kernelspec": {
   "display_name": "Python 3",
   "language": "python",
   "name": "python3"
  },
  "language_info": {
   "codemirror_mode": {
    "name": "ipython",
    "version": 3
   },
   "file_extension": ".py",
   "mimetype": "text/x-python",
   "name": "python",
   "nbconvert_exporter": "python",
   "pygments_lexer": "ipython3",
   "version": "3.11.9"
  }
 },
 "nbformat": 4,
 "nbformat_minor": 2
}
