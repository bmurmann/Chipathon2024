{
 "cells": [
  {
   "cell_type": "code",
   "execution_count": 3,
   "metadata": {},
   "outputs": [],
   "source": [
    "import numpy as np\n",
    "import pandas as pd\n",
    "from pygmid import Lookup as lk"
   ]
  },
  {
   "cell_type": "markdown",
   "metadata": {},
   "source": [
    "#### Technology data"
   ]
  },
  {
   "cell_type": "code",
   "execution_count": 4,
   "metadata": {},
   "outputs": [],
   "source": [
    "nfet_01v8_lvt = lk('../../techsweep/simulation/nfet_01v8_lvt.mat')"
   ]
  },
  {
   "cell_type": "markdown",
   "metadata": {},
   "source": [
    "#### Specifications"
   ]
  },
  {
   "cell_type": "code",
   "execution_count": 5,
   "metadata": {},
   "outputs": [],
   "source": [
    "gm = 10e-3"
   ]
  },
  {
   "cell_type": "markdown",
   "metadata": {},
   "source": [
    "#### Design choices"
   ]
  },
  {
   "cell_type": "code",
   "execution_count": 6,
   "metadata": {},
   "outputs": [],
   "source": [
    "l = 0.15\n",
    "gm_id = np.array([6, 20])"
   ]
  },
  {
   "cell_type": "markdown",
   "metadata": {},
   "source": [
    "#### Sizing and benchmarking"
   ]
  },
  {
   "cell_type": "code",
   "execution_count": 7,
   "metadata": {},
   "outputs": [
    {
     "data": {
      "text/html": [
       "<div>\n",
       "<style scoped>\n",
       "    .dataframe tbody tr th:only-of-type {\n",
       "        vertical-align: middle;\n",
       "    }\n",
       "\n",
       "    .dataframe tbody tr th {\n",
       "        vertical-align: top;\n",
       "    }\n",
       "\n",
       "    .dataframe thead th {\n",
       "        text-align: right;\n",
       "    }\n",
       "</style>\n",
       "<table border=\"1\" class=\"dataframe\">\n",
       "  <thead>\n",
       "    <tr style=\"text-align: right;\">\n",
       "      <th></th>\n",
       "      <th>option1</th>\n",
       "      <th>option2</th>\n",
       "    </tr>\n",
       "  </thead>\n",
       "  <tbody>\n",
       "    <tr>\n",
       "      <th>gm_id</th>\n",
       "      <td>6.000000e+00</td>\n",
       "      <td>2.000000e+01</td>\n",
       "    </tr>\n",
       "    <tr>\n",
       "      <th>id</th>\n",
       "      <td>1.666667e-03</td>\n",
       "      <td>5.000000e-04</td>\n",
       "    </tr>\n",
       "    <tr>\n",
       "      <th>jd</th>\n",
       "      <td>7.100132e-05</td>\n",
       "      <td>3.077393e-06</td>\n",
       "    </tr>\n",
       "    <tr>\n",
       "      <th>w</th>\n",
       "      <td>2.347374e+01</td>\n",
       "      <td>1.624752e+02</td>\n",
       "    </tr>\n",
       "    <tr>\n",
       "      <th>cgg</th>\n",
       "      <td>2.844918e-14</td>\n",
       "      <td>1.790295e-13</td>\n",
       "    </tr>\n",
       "    <tr>\n",
       "      <th>ft</th>\n",
       "      <td>5.594359e+10</td>\n",
       "      <td>8.889872e+09</td>\n",
       "    </tr>\n",
       "    <tr>\n",
       "      <th>cgg_ngspice</th>\n",
       "      <td>1.721516e-14</td>\n",
       "      <td>1.012724e-13</td>\n",
       "    </tr>\n",
       "  </tbody>\n",
       "</table>\n",
       "</div>"
      ],
      "text/plain": [
       "                  option1       option2\n",
       "gm_id        6.000000e+00  2.000000e+01\n",
       "id           1.666667e-03  5.000000e-04\n",
       "jd           7.100132e-05  3.077393e-06\n",
       "w            2.347374e+01  1.624752e+02\n",
       "cgg          2.844918e-14  1.790295e-13\n",
       "ft           5.594359e+10  8.889872e+09\n",
       "cgg_ngspice  1.721516e-14  1.012724e-13"
      ]
     },
     "execution_count": 7,
     "metadata": {},
     "output_type": "execute_result"
    }
   ],
   "source": [
    "id = gm/gm_id\n",
    "jd = nfet_01v8_lvt.lookup('ID_W', GM_ID=gm_id, L=l)\n",
    "w = id/jd\n",
    "\n",
    "cgg_w = nfet_01v8_lvt.lookup('CGG_W', GM_ID=gm_id, L=l)\n",
    "cgg = w*cgg_w\n",
    "ft = gm/cgg/2/np.pi\n",
    "cfringe = w*0.239289e-15\n",
    "cgg_ngspice = cgg-2*cfringe\n",
    "\n",
    "df = pd.DataFrame([gm_id, id, jd, w, cgg, ft, cgg_ngspice], ['gm_id', 'id', 'jd', 'w', 'cgg', 'ft', 'cgg_ngspice'], columns=['option1', 'option2']); df"
   ]
  },
  {
   "cell_type": "code",
   "execution_count": 16,
   "metadata": {},
   "outputs": [],
   "source": [
    "# original design parameters\n",
    "ib = 10e-6\n",
    "cl = 1e-12\n",
    "\n",
    "l0 = 1\n",
    "w0 = 2.0\n",
    "nf0 = 2\n",
    "\n",
    "l1 = 0.5\n",
    "w1 = 20.0\n",
    "nf1 = 4\n",
    "\n",
    "l2 = 1\n",
    "w2 = 2.0\n",
    "nf2 = 2"
   ]
  },
  {
   "cell_type": "markdown",
   "metadata": {},
   "source": [
    "#### Write spice include file"
   ]
  },
  {
   "cell_type": "code",
   "execution_count": 15,
   "metadata": {},
   "outputs": [],
   "source": [
    "with open('sizing_ota-5t.spice', 'w') as file:\n",
    "    file.write(\".param ib = \" + repr(5.0) + '\\n')\n",
    "    file.write(\".param cl = \" + repr(5.0) + '\\n')\n",
    "    file.write(\".param l0 = \" + repr(5.0) + '\\n')\n",
    "    file.write(\".param l1 = \" + repr(5.0) + '\\n')\n",
    "    file.write(\".param l2 = \" + repr(5.0) + '\\n')\n",
    "    file.write(\".param w0 = \" + repr(5.0) + '\\n')\n",
    "    file.write(\".param w1 = \" + repr(5.0) + '\\n')\n",
    "    file.write(\".param w2 = \" + repr(5.0) + '\\n')\n",
    "    file.write(\".param nf0 = \" + repr(5.0) + '\\n')\n",
    "    file.write(\".param nf1 = \" + repr(5.0) + '\\n')\n",
    "    file.write(\".param nf2 = \" + repr(5.0) + '\\n')\n"
   ]
  }
 ],
 "metadata": {
  "kernelspec": {
   "display_name": "Python 3",
   "language": "python",
   "name": "python3"
  },
  "language_info": {
   "codemirror_mode": {
    "name": "ipython",
    "version": 3
   },
   "file_extension": ".py",
   "mimetype": "text/x-python",
   "name": "python",
   "nbconvert_exporter": "python",
   "pygments_lexer": "ipython3",
   "version": "3.10.12"
  }
 },
 "nbformat": 4,
 "nbformat_minor": 2
}
