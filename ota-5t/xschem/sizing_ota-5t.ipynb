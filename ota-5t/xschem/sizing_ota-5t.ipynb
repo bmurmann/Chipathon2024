{
 "cells": [
  {
   "cell_type": "code",
   "execution_count": 147,
   "metadata": {},
   "outputs": [],
   "source": [
    "import numpy as np\n",
    "import pandas as pd\n",
    "import scipy.io\n",
    "import scipy.constants as sc\n",
    "from pygmid import Lookup as lk"
   ]
  },
  {
   "cell_type": "markdown",
   "metadata": {},
   "source": [
    "#### Technology data"
   ]
  },
  {
   "cell_type": "code",
   "execution_count": 148,
   "metadata": {},
   "outputs": [],
   "source": [
    "n = lk('../../techsweep/simulation/nfet_01v8_lvt.mat')\n",
    "p = lk('../../techsweep/simulation/pfet_01v8.mat')\n",
    "n_mat = scipy.io.loadmat('../../techsweep/simulation/nfet_01v8_lvt.mat', squeeze_me=True)\n",
    "p_mat = scipy.io.loadmat('../../techsweep/simulation/pfet_01v8.mat', squeeze_me=True)"
   ]
  },
  {
   "cell_type": "markdown",
   "metadata": {},
   "source": [
    "#### Specifications"
   ]
  },
  {
   "cell_type": "code",
   "execution_count": 149,
   "metadata": {},
   "outputs": [],
   "source": [
    "T=300; A0=50; PM=87; NOI=110e-6"
   ]
  },
  {
   "cell_type": "markdown",
   "metadata": {},
   "source": [
    "#### Design choices"
   ]
  },
  {
   "cell_type": "code",
   "execution_count": 150,
   "metadata": {},
   "outputs": [],
   "source": [
    "# pick large gm/ID for input pairs, smaller gm/ID for mirror (to reduce noise)\n",
    "gm_id = np.zeros(3)\n",
    "gm_id[1] = 20\n",
    "gm2_gm1 = 0.5\n",
    "gm_id[2] = gm2_gm1*gm_id[1]\n",
    "gm_id[0] = gm_id[1]\n",
    "\n",
    "# pick equal gds for differential pair and load devices\n",
    "gds2_gds1 = 1"
   ]
  },
  {
   "cell_type": "markdown",
   "metadata": {},
   "source": [
    "#### Sizing and benchmarking"
   ]
  },
  {
   "cell_type": "code",
   "execution_count": 151,
   "metadata": {},
   "outputs": [
    {
     "data": {
      "text/html": [
       "<div>\n",
       "<style scoped>\n",
       "    .dataframe tbody tr th:only-of-type {\n",
       "        vertical-align: middle;\n",
       "    }\n",
       "\n",
       "    .dataframe tbody tr th {\n",
       "        vertical-align: top;\n",
       "    }\n",
       "\n",
       "    .dataframe thead th {\n",
       "        text-align: right;\n",
       "    }\n",
       "</style>\n",
       "<table border=\"1\" class=\"dataframe\">\n",
       "  <thead>\n",
       "    <tr style=\"text-align: right;\">\n",
       "      <th></th>\n",
       "      <th>Value</th>\n",
       "    </tr>\n",
       "  </thead>\n",
       "  <tbody>\n",
       "    <tr>\n",
       "      <th>cl (pF)</th>\n",
       "      <td>1.68</td>\n",
       "    </tr>\n",
       "    <tr>\n",
       "      <th>UGF (MHz)</th>\n",
       "      <td>84.81</td>\n",
       "    </tr>\n",
       "    <tr>\n",
       "      <th>ib (uA)</th>\n",
       "      <td>89.76</td>\n",
       "    </tr>\n",
       "  </tbody>\n",
       "</table>\n",
       "</div>"
      ],
      "text/plain": [
       "           Value\n",
       "cl (pF)     1.68\n",
       "UGF (MHz)  84.81\n",
       "ib (uA)    89.76"
      ]
     },
     "execution_count": 151,
     "metadata": {},
     "output_type": "execute_result"
    }
   ],
   "source": [
    "# Find shortest channel lengths that satisfy gain requirements\n",
    "# A0 = gm[1]/(gds[1]+gds[2])\n",
    "# A0 = gm[1]/(gds[1]*(1+gds2_gds1))\n",
    "gm_gds = np.zeros(3)\n",
    "gm_gds[1] = A0*(1+gds2_gds1)\n",
    "gm_gds[2] = gm_gds[1]*gm2_gm1*gds2_gds1\n",
    "\n",
    "l_vec1 = n_mat['nfet_01v8_lvt']['L'].flatten()[0]\n",
    "l_vec2 = p_mat['pfet_01v8']['L'].flatten()[0]\n",
    "gm_gds_vec1 = n.lookup('GM_GDS', GM_ID=gm_id[1], L=l_vec1, VDS=0.3)\n",
    "gm_gds_vec2 = n.lookup('GM_GDS', GM_ID=gm_id[2], L=l_vec2)\n",
    "l_index1 = next(x for x, val in enumerate(gm_gds_vec1) if val > gm_gds[1])\n",
    "l_index2 = next(x for x, val in enumerate(gm_gds_vec2) if val > gm_gds[2])\n",
    "l = np.zeros(3)\n",
    "l[0]=l_vec1[l_index1]\n",
    "l[1]=l_vec1[l_index1]\n",
    "l[2]=l_vec2[l_index2]\n",
    "\n",
    "# calculate load capacitance for noise spec\n",
    "# NOI = ( gamma[1]*(1+2*gamma[2]/gamma[1]) * sc.Boltzmann*T/cltot)**0.5\n",
    "gamma = np.zeros(3)\n",
    "gamma[1] = n.lookup('STH_GM', GM_ID=gm_id[1], L=l[1])/(4*sc.Boltzmann*T)\n",
    "gamma[2] = n.lookup('STH_GM', GM_ID=gm_id[2], L=l[2])/(4*sc.Boltzmann*T)\n",
    "cl = gamma[1]*(1+2*gamma[2]/gamma[1]) * sc.Boltzmann*T/NOI**2\n",
    "\n",
    "# calculate mirror pole frequency and UGF that guarantees phase margin (with some margin)\n",
    "# phi = np.arctan(UGF/fp2)*180/np.pi\n",
    "fp2 = 0.5*p.lookup('GM_CGG', GM_ID=gm_id[2], L=l[2])/2/np.pi\n",
    "phi = 90-PM\n",
    "fp2_UGF = 1/np.tan(phi/180*np.pi)\n",
    "UGF = fp2/fp2_UGF\n",
    "\n",
    "# calculate gm1 based on UGF target\n",
    "# UGF = gm[1]/cltot/2/np.pi\n",
    "gm = np.zeros(3)\n",
    "gm[1] = UGF*cl*2*np.pi\n",
    "\n",
    "# calculate current and all widths\n",
    "ib = 2*gm[1]/gm_id[1]\n",
    "id = ib*np.array([1, 0.5, 0.5])\n",
    "w = np.zeros(3)\n",
    "w[0] = id[0]/n.lookup('ID_W', GM_ID=gm_id[0], L=l[0])\n",
    "w[1] = id[1]/n.lookup('ID_W', GM_ID=gm_id[1], L=l[1])\n",
    "w[2] = id[2]/n.lookup('ID_W', GM_ID=gm_id[2], L=l[2])\n",
    "wfing = 5\n",
    "nf = 1+np.floor_divide(w, wfing)\n",
    "\n",
    "df = pd.DataFrame( [cl/1e-12, UGF/1e6, ib/1e-6], \\\n",
    "                   ['cl (pF)', 'UGF (MHz)', 'ib (uA)'], columns=['Value']); df.round(2)"
   ]
  },
  {
   "cell_type": "code",
   "execution_count": 152,
   "metadata": {},
   "outputs": [
    {
     "data": {
      "text/html": [
       "<div>\n",
       "<style scoped>\n",
       "    .dataframe tbody tr th:only-of-type {\n",
       "        vertical-align: middle;\n",
       "    }\n",
       "\n",
       "    .dataframe tbody tr th {\n",
       "        vertical-align: top;\n",
       "    }\n",
       "\n",
       "    .dataframe thead th {\n",
       "        text-align: right;\n",
       "    }\n",
       "</style>\n",
       "<table border=\"1\" class=\"dataframe\">\n",
       "  <thead>\n",
       "    <tr style=\"text-align: right;\">\n",
       "      <th></th>\n",
       "      <th>M0</th>\n",
       "      <th>M1</th>\n",
       "      <th>M2</th>\n",
       "    </tr>\n",
       "  </thead>\n",
       "  <tbody>\n",
       "    <tr>\n",
       "      <th>w (um)</th>\n",
       "      <td>371.57</td>\n",
       "      <td>185.79</td>\n",
       "      <td>2.76</td>\n",
       "    </tr>\n",
       "    <tr>\n",
       "      <th>l (um)</th>\n",
       "      <td>2.00</td>\n",
       "      <td>2.00</td>\n",
       "      <td>0.30</td>\n",
       "    </tr>\n",
       "    <tr>\n",
       "      <th>nf</th>\n",
       "      <td>75.00</td>\n",
       "      <td>38.00</td>\n",
       "      <td>1.00</td>\n",
       "    </tr>\n",
       "  </tbody>\n",
       "</table>\n",
       "</div>"
      ],
      "text/plain": [
       "            M0      M1    M2\n",
       "w (um)  371.57  185.79  2.76\n",
       "l (um)    2.00    2.00  0.30\n",
       "nf       75.00   38.00  1.00"
      ]
     },
     "execution_count": 152,
     "metadata": {},
     "output_type": "execute_result"
    }
   ],
   "source": [
    "df = pd.DataFrame( [w, l, nf], \\\n",
    "                   ['w (um)', 'l (um)', 'nf'], columns=['M0', 'M1', 'M2']); df.round(2)"
   ]
  },
  {
   "cell_type": "markdown",
   "metadata": {},
   "source": [
    "#### Write spice include file"
   ]
  },
  {
   "cell_type": "code",
   "execution_count": 153,
   "metadata": {},
   "outputs": [],
   "source": [
    "# override with baseline values if desired\n",
    "if False:\n",
    "  ib = 10e-6; cl = 1e-12\n",
    "  l = np.array([1.0, 0.5,  1.0])\n",
    "  w = np.array([2.0, 20.0, 2.0])\n",
    "  nf = np.array([2, 4, 2])\n",
    "\n",
    "with open('sizing_ota-5t.spice', 'w') as file:\n",
    "    file.write(\".param ib = \" + \"{:.2e}\".format(ib) + '\\n')\n",
    "    file.write(\".param cl = \" + \"{:.2e}\".format(cl) + '\\n')\n",
    "    for i in range(len(l)):\n",
    "      file.write(\".param w%d = \" % i + \"{:.2f}\".format(w[i]) + '\\n')\n",
    "      file.write(\".param l%d = \" % i + \"{:.2f}\".format(l[i]) + '\\n')\n",
    "      file.write(\".param nf%d = \" % i + \"{:.2f}\".format(nf[i]) + '\\n')"
   ]
  }
 ],
 "metadata": {
  "kernelspec": {
   "display_name": "Python 3",
   "language": "python",
   "name": "python3"
  },
  "language_info": {
   "codemirror_mode": {
    "name": "ipython",
    "version": 3
   },
   "file_extension": ".py",
   "mimetype": "text/x-python",
   "name": "python",
   "nbconvert_exporter": "python",
   "pygments_lexer": "ipython3",
   "version": "3.11.9"
  }
 },
 "nbformat": 4,
 "nbformat_minor": 2
}
